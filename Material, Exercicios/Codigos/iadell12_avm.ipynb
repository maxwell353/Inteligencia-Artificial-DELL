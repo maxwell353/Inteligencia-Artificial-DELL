{
 "cells": [
  {
   "cell_type": "code",
   "execution_count": 1,
   "metadata": {},
   "outputs": [],
   "source": [
    "# coding: utf-8\n",
    "\n",
    "# ### Métricas de Avaliação\n",
    "# #### Classificação\n",
    "# ##### - Acurácia\n",
    "# #### Regressão\n",
    "# ##### - Média absoluta do erro\n",
    "# \n",
    "# ### Desvantagens destas métricas\n",
    "# ### Como escolher a métrica mais adequada?\n",
    "# \n",
    "# ### Aplicações diferentes tem objetivos diferentes\n",
    "# ### Acurácia é bastante usada, mas existem outras métricas\n",
    "# #### Número de buscas na web (satisfação do usuário)\n",
    "# #### Retorno financeiro (comércio)\n",
    "# #### Aumento na taxa de sobrevivência (saúde)\n",
    "# \n",
    "# ### Dados desbalanceados\n",
    "# #### Problema com duas classes\n",
    "# ##### Classe 0 - Irrelevante\n",
    "# ##### Classe 1 - Relevante\n",
    "# \n",
    "# #### Exemplo\n",
    "# ##### Identificação de fraudes em cartões\n",
    "# ##### 1 em cada 1000 é relevante\n",
    "# ##### Acurácia = predições corretas / total de itens\n",
    "# \n",
    "# #### Um classificador obteve 99,9% de acurácia\n",
    "# #### Esse resultado é bom?\n",
    "# #### Comparar com um classificador muito simples\n",
    "# \n",
    "# ### Classificador Dummy\n",
    "# #### Verificador de sanidade\n",
    "# #### Baseline para classificação\n",
    "# #### Tipos\n",
    "# ##### Mais frequente (most_frequent)\n",
    "# ##### Aleatório (uniform)\n",
    "# ##### Aleatório com distribuição igual aos dados de treino (stratified)\n",
    "# ##### Constante e configurado pelo usuário (constant)\n",
    "# \n",
    "# #### O seu classificador pode estar ruim por erros em atributos, overfitting ou desbalanceamento das classes\n",
    "# \n",
    "# ### Regressor dummy\n",
    "# #### Tipos\n",
    "# ##### Média dos rótulos de treinamento (mean)\n",
    "# ##### Mediana das saídas do treinamento (median)\n",
    "# ##### Quartil das saídas de treinamento. 0 para mínimo, 0.5 para média e 1 para máximo (quantile)\n",
    "# ##### Constante e configurado pelo usuário (constant)\n",
    "\n",
    "from sklearn.dummy import DummyClassifier, DummyRegressor\n",
    "from sklearn.datasets import load_iris, load_boston"
   ]
  },
  {
   "cell_type": "code",
   "execution_count": 2,
   "metadata": {},
   "outputs": [],
   "source": [
    "X,y = load_iris(return_X_y=True)"
   ]
  },
  {
   "cell_type": "code",
   "execution_count": 3,
   "metadata": {},
   "outputs": [
    {
     "data": {
      "text/plain": [
       "0.3466666666666667"
      ]
     },
     "execution_count": 3,
     "metadata": {},
     "output_type": "execute_result"
    }
   ],
   "source": [
    "dc = DummyClassifier(strategy='stratified')\n",
    "dc.fit(X,y)\n",
    "dc.score(X,y)"
   ]
  },
  {
   "cell_type": "code",
   "execution_count": 4,
   "metadata": {},
   "outputs": [],
   "source": [
    "X,y = load_boston(return_X_y=True)"
   ]
  },
  {
   "cell_type": "code",
   "execution_count": 5,
   "metadata": {},
   "outputs": [
    {
     "data": {
      "text/plain": [
       "0.0"
      ]
     },
     "execution_count": 5,
     "metadata": {},
     "output_type": "execute_result"
    }
   ],
   "source": [
    "dr = DummyRegressor(strategy='mean')\n",
    "dr.fit(X,y)\n",
    "dr.score(X,y)"
   ]
  },
  {
   "cell_type": "code",
   "execution_count": 6,
   "metadata": {},
   "outputs": [],
   "source": [
    "# ### Matriz de confusão\n",
    "# <img src='matconf.png'>\n",
    "# <img src='matconf-acc.png'>\n",
    "# <img src='matconf-err.png'>\n",
    "\n",
    "from sklearn.dummy import DummyClassifier\n",
    "from sklearn.datasets import load_breast_cancer\n",
    "from sklearn.metrics import confusion_matrix, classification_report"
   ]
  },
  {
   "cell_type": "code",
   "execution_count": 7,
   "metadata": {},
   "outputs": [],
   "source": [
    "X,y = load_breast_cancer(return_X_y=True)"
   ]
  },
  {
   "cell_type": "code",
   "execution_count": 8,
   "metadata": {},
   "outputs": [
    {
     "data": {
      "text/plain": [
       "array([[ 79, 133],\n",
       "       [141, 216]], dtype=int64)"
      ]
     },
     "execution_count": 8,
     "metadata": {},
     "output_type": "execute_result"
    }
   ],
   "source": [
    "dc = DummyClassifier(strategy='stratified')\n",
    "dc.fit(X,y)\n",
    "confusion_matrix(y,dc.predict(X))"
   ]
  },
  {
   "cell_type": "code",
   "execution_count": 9,
   "metadata": {},
   "outputs": [
    {
     "name": "stdout",
     "output_type": "stream",
     "text": [
      "              precision    recall  f1-score   support\n",
      "\n",
      "           0       0.45      0.46      0.45       212\n",
      "           1       0.67      0.67      0.67       357\n",
      "\n",
      "    accuracy                           0.59       569\n",
      "   macro avg       0.56      0.56      0.56       569\n",
      "weighted avg       0.59      0.59      0.59       569\n",
      "\n"
     ]
    }
   ],
   "source": [
    "# #### Recall (Sensitividade)\n",
    "# ##### Útil para aplicações médicas\n",
    "# ##### Verdadeiros positivos / (Verdadeiros positivos + Falsos negativos)\n",
    "# #### Precisão\n",
    "# ##### Útil para sistemas de recomendação\n",
    "# ##### Verdadeiros positivos / (Verdadeiros positivos + Falsos positivos)\n",
    "\n",
    "print(classification_report(y,dc.predict(X)))"
   ]
  },
  {
   "cell_type": "code",
   "execution_count": 10,
   "metadata": {},
   "outputs": [],
   "source": [
    "# ### Validação cruzada\n",
    "\n",
    "from sklearn.dummy import DummyClassifier\n",
    "from sklearn.datasets import load_iris\n",
    "from sklearn.model_selection import cross_val_score"
   ]
  },
  {
   "cell_type": "code",
   "execution_count": 11,
   "metadata": {},
   "outputs": [],
   "source": [
    "X,y = load_iris(return_X_y=True) \n",
    "dc = DummyClassifier(strategy='stratified')"
   ]
  },
  {
   "cell_type": "code",
   "execution_count": 12,
   "metadata": {},
   "outputs": [
    {
     "data": {
      "text/plain": [
       "array([0.39215686, 0.33333333, 0.27083333])"
      ]
     },
     "execution_count": 12,
     "metadata": {},
     "output_type": "execute_result"
    }
   ],
   "source": [
    "cross_val_score(dc,X,y,cv=3)"
   ]
  },
  {
   "cell_type": "code",
   "execution_count": 13,
   "metadata": {},
   "outputs": [
    {
     "data": {
      "text/plain": [
       "0.3014705882352941"
      ]
     },
     "execution_count": 13,
     "metadata": {},
     "output_type": "execute_result"
    }
   ],
   "source": [
    "cross_val_score(dc,X,y,cv=3).mean()"
   ]
  }
 ],
 "metadata": {
  "kernelspec": {
   "display_name": "Python 3",
   "language": "python",
   "name": "python3"
  },
  "language_info": {
   "codemirror_mode": {
    "name": "ipython",
    "version": 3
   },
   "file_extension": ".py",
   "mimetype": "text/x-python",
   "name": "python",
   "nbconvert_exporter": "python",
   "pygments_lexer": "ipython3",
   "version": "3.7.4"
  }
 },
 "nbformat": 4,
 "nbformat_minor": 2
}
