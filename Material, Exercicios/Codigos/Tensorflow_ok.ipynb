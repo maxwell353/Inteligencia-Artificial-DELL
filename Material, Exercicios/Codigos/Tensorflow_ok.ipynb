{
 "cells": [
  {
   "cell_type": "markdown",
   "metadata": {},
   "source": [
    "<img src='tensor.png'>"
   ]
  },
  {
   "cell_type": "markdown",
   "metadata": {},
   "source": [
    "<img src='parcs.png'>"
   ]
  },
  {
   "cell_type": "code",
   "execution_count": 1,
   "metadata": {
    "colab": {},
    "colab_type": "code",
    "id": "_c6kGgLq6B6R"
   },
   "outputs": [],
   "source": [
    "import tensorflow as tf\n",
    "from tensorflow import keras\n",
    "import numpy as np"
   ]
  },
  {
   "cell_type": "code",
   "execution_count": 26,
   "metadata": {
    "colab": {},
    "colab_type": "code",
    "id": "5ksvsRB16B6c"
   },
   "outputs": [],
   "source": [
    "mnist = keras.datasets.mnist #alterado de fashion_mnist para mnist de acordo com o exercicio\n",
    "\n",
    "(train_images, train_labels), (test_images, test_labels) = mnist.load_data()"
   ]
  },
  {
   "cell_type": "code",
   "execution_count": 27,
   "metadata": {
    "colab": {
     "base_uri": "https://localhost:8080/",
     "height": 34
    },
    "colab_type": "code",
    "executionInfo": {
     "elapsed": 379,
     "status": "ok",
     "timestamp": 1562696807347,
     "user": {
      "displayName": "Lucas G. Moura Leite",
      "photoUrl": "https://lh6.googleusercontent.com/-OzK-WjeoQAc/AAAAAAAAAAI/AAAAAAAAAGs/reQ3J8zZhu0/s64/photo.jpg",
      "userId": "15064829072844083005"
     },
     "user_tz": 180
    },
    "id": "aevxZgo26B6j",
    "outputId": "adb2961d-9fd2-4b2c-ff98-5b07f8677727"
   },
   "outputs": [
    {
     "data": {
      "text/plain": [
       "(60000, 28, 28)"
      ]
     },
     "execution_count": 27,
     "metadata": {},
     "output_type": "execute_result"
    }
   ],
   "source": [
    "train_images.shape"
   ]
  },
  {
   "cell_type": "code",
   "execution_count": 28,
   "metadata": {
    "colab": {
     "base_uri": "https://localhost:8080/",
     "height": 34
    },
    "colab_type": "code",
    "executionInfo": {
     "elapsed": 498,
     "status": "ok",
     "timestamp": 1562696808595,
     "user": {
      "displayName": "Lucas G. Moura Leite",
      "photoUrl": "https://lh6.googleusercontent.com/-OzK-WjeoQAc/AAAAAAAAAAI/AAAAAAAAAGs/reQ3J8zZhu0/s64/photo.jpg",
      "userId": "15064829072844083005"
     },
     "user_tz": 180
    },
    "id": "84Cf91vr6B6n",
    "outputId": "376e9882-7881-4c35-8e6a-8cc89cba2495"
   },
   "outputs": [
    {
     "data": {
      "text/plain": [
       "60000"
      ]
     },
     "execution_count": 28,
     "metadata": {},
     "output_type": "execute_result"
    }
   ],
   "source": [
    "len(train_labels)"
   ]
  },
  {
   "cell_type": "code",
   "execution_count": 29,
   "metadata": {
    "colab": {
     "base_uri": "https://localhost:8080/",
     "height": 34
    },
    "colab_type": "code",
    "executionInfo": {
     "elapsed": 526,
     "status": "ok",
     "timestamp": 1562696854642,
     "user": {
      "displayName": "Lucas G. Moura Leite",
      "photoUrl": "https://lh6.googleusercontent.com/-OzK-WjeoQAc/AAAAAAAAAAI/AAAAAAAAAGs/reQ3J8zZhu0/s64/photo.jpg",
      "userId": "15064829072844083005"
     },
     "user_tz": 180
    },
    "id": "bQI68dl56B6r",
    "outputId": "1c039fbd-95b2-4af0-9d46-bf465acc8b6b"
   },
   "outputs": [
    {
     "data": {
      "text/plain": [
       "array([0, 1, 2, 3, 4, 5, 6, 7, 8, 9], dtype=uint8)"
      ]
     },
     "execution_count": 29,
     "metadata": {},
     "output_type": "execute_result"
    }
   ],
   "source": [
    "np.unique(train_labels)"
   ]
  },
  {
   "cell_type": "code",
   "execution_count": 30,
   "metadata": {
    "colab": {
     "base_uri": "https://localhost:8080/",
     "height": 34
    },
    "colab_type": "code",
    "executionInfo": {
     "elapsed": 520,
     "status": "ok",
     "timestamp": 1562696882292,
     "user": {
      "displayName": "Lucas G. Moura Leite",
      "photoUrl": "https://lh6.googleusercontent.com/-OzK-WjeoQAc/AAAAAAAAAAI/AAAAAAAAAGs/reQ3J8zZhu0/s64/photo.jpg",
      "userId": "15064829072844083005"
     },
     "user_tz": 180
    },
    "id": "bxPD-Au-6B6v",
    "outputId": "a3fb40a4-12b9-4972-9805-7add74f94b93"
   },
   "outputs": [
    {
     "data": {
      "text/plain": [
       "(10000, 28, 28)"
      ]
     },
     "execution_count": 30,
     "metadata": {},
     "output_type": "execute_result"
    }
   ],
   "source": [
    "test_images.shape"
   ]
  },
  {
   "cell_type": "code",
   "execution_count": 31,
   "metadata": {
    "colab": {
     "base_uri": "https://localhost:8080/",
     "height": 34
    },
    "colab_type": "code",
    "executionInfo": {
     "elapsed": 551,
     "status": "ok",
     "timestamp": 1562696883484,
     "user": {
      "displayName": "Lucas G. Moura Leite",
      "photoUrl": "https://lh6.googleusercontent.com/-OzK-WjeoQAc/AAAAAAAAAAI/AAAAAAAAAGs/reQ3J8zZhu0/s64/photo.jpg",
      "userId": "15064829072844083005"
     },
     "user_tz": 180
    },
    "id": "b42JxOQn6B60",
    "outputId": "f3839c86-ed56-4927-809e-3346091f2698"
   },
   "outputs": [
    {
     "data": {
      "text/plain": [
       "10000"
      ]
     },
     "execution_count": 31,
     "metadata": {},
     "output_type": "execute_result"
    }
   ],
   "source": [
    "len(test_labels)"
   ]
  },
  {
   "cell_type": "code",
   "execution_count": 32,
   "metadata": {
    "colab": {
     "base_uri": "https://localhost:8080/",
     "height": 34
    },
    "colab_type": "code",
    "executionInfo": {
     "elapsed": 511,
     "status": "ok",
     "timestamp": 1562696884889,
     "user": {
      "displayName": "Lucas G. Moura Leite",
      "photoUrl": "https://lh6.googleusercontent.com/-OzK-WjeoQAc/AAAAAAAAAAI/AAAAAAAAAGs/reQ3J8zZhu0/s64/photo.jpg",
      "userId": "15064829072844083005"
     },
     "user_tz": 180
    },
    "id": "9JZ0l1ph6B64",
    "outputId": "de142331-5222-4189-9bfe-aa8d74239526"
   },
   "outputs": [
    {
     "data": {
      "text/plain": [
       "array([7, 2, 1, ..., 4, 5, 6], dtype=uint8)"
      ]
     },
     "execution_count": 32,
     "metadata": {},
     "output_type": "execute_result"
    }
   ],
   "source": [
    "test_labels"
   ]
  },
  {
   "cell_type": "code",
   "execution_count": 33,
   "metadata": {
    "colab": {},
    "colab_type": "code",
    "id": "L3SKeNvS6B7D"
   },
   "outputs": [],
   "source": [
    "train_images = train_images / 255.0\n",
    "\n",
    "test_images = test_images / 255.0"
   ]
  },
  {
   "cell_type": "code",
   "execution_count": 34,
   "metadata": {
    "colab": {
     "base_uri": "https://localhost:8080/",
     "height": 255
    },
    "colab_type": "code",
    "executionInfo": {
     "elapsed": 501,
     "status": "ok",
     "timestamp": 1562697233662,
     "user": {
      "displayName": "Lucas G. Moura Leite",
      "photoUrl": "https://lh6.googleusercontent.com/-OzK-WjeoQAc/AAAAAAAAAAI/AAAAAAAAAGs/reQ3J8zZhu0/s64/photo.jpg",
      "userId": "15064829072844083005"
     },
     "user_tz": 180
    },
    "id": "FZ21TQ4O6B7J",
    "outputId": "d8c3e208-ea76-4f52-a830-3ee4013dfd80"
   },
   "outputs": [
    {
     "name": "stdout",
     "output_type": "stream",
     "text": [
      "Model: \"sequential_1\"\n",
      "_________________________________________________________________\n",
      "Layer (type)                 Output Shape              Param #   \n",
      "=================================================================\n",
      "flatten_1 (Flatten)          (None, 784)               0         \n",
      "_________________________________________________________________\n",
      "dense_2 (Dense)              (None, 50)                39250     \n",
      "_________________________________________________________________\n",
      "dense_3 (Dense)              (None, 10)                510       \n",
      "=================================================================\n",
      "Total params: 39,760\n",
      "Trainable params: 39,760\n",
      "Non-trainable params: 0\n",
      "_________________________________________________________________\n"
     ]
    }
   ],
   "source": [
    "model = keras.Sequential([\n",
    "    keras.layers.Flatten(input_shape=(28, 28)),\n",
    "    keras.layers.Dense(50, activation=tf.nn.relu), #alterado de 128 para 50 neuronios na camada 1 de acordo com exercicio\n",
    "    keras.layers.Dense(10, activation=tf.nn.softmax)\n",
    "])\n",
    "model.summary()"
   ]
  },
  {
   "cell_type": "code",
   "execution_count": 35,
   "metadata": {
    "colab": {},
    "colab_type": "code",
    "id": "2YLI-l8B6B7N"
   },
   "outputs": [],
   "source": [
    "model.compile(optimizer='adam', \n",
    "              loss='sparse_categorical_crossentropy',\n",
    "              metrics=['accuracy'])"
   ]
  },
  {
   "cell_type": "code",
   "execution_count": 36,
   "metadata": {
    "colab": {
     "base_uri": "https://localhost:8080/",
     "height": 204
    },
    "colab_type": "code",
    "executionInfo": {
     "elapsed": 21348,
     "status": "ok",
     "timestamp": 1562697328676,
     "user": {
      "displayName": "Lucas G. Moura Leite",
      "photoUrl": "https://lh6.googleusercontent.com/-OzK-WjeoQAc/AAAAAAAAAAI/AAAAAAAAAGs/reQ3J8zZhu0/s64/photo.jpg",
      "userId": "15064829072844083005"
     },
     "user_tz": 180
    },
    "id": "cBGct1Ij6B7R",
    "outputId": "08170d24-fadf-4bba-af9a-df75538e1aa7"
   },
   "outputs": [
    {
     "name": "stdout",
     "output_type": "stream",
     "text": [
      "Epoch 1/5\n",
      "60000/60000 [==============================] - 8s 136us/sample - loss: 0.3216 - acc: 0.9095\n",
      "Epoch 2/5\n",
      "60000/60000 [==============================] - 9s 143us/sample - loss: 0.1571 - acc: 0.9533\n",
      "Epoch 3/5\n",
      "60000/60000 [==============================] - 8s 130us/sample - loss: 0.1177 - acc: 0.9652\n",
      "Epoch 4/5\n",
      "60000/60000 [==============================] - 8s 135us/sample - loss: 0.0949 - acc: 0.9722\n",
      "Epoch 5/5\n",
      "60000/60000 [==============================] - 8s 134us/sample - loss: 0.0787 - acc: 0.9765\n"
     ]
    },
    {
     "data": {
      "text/plain": [
       "<tensorflow.python.keras.callbacks.History at 0x132b5e88>"
      ]
     },
     "execution_count": 36,
     "metadata": {},
     "output_type": "execute_result"
    }
   ],
   "source": [
    "model.fit(train_images, train_labels, epochs=5)"
   ]
  },
  {
   "cell_type": "code",
   "execution_count": 37,
   "metadata": {
    "colab": {
     "base_uri": "https://localhost:8080/",
     "height": 51
    },
    "colab_type": "code",
    "executionInfo": {
     "elapsed": 772,
     "status": "ok",
     "timestamp": 1562697751534,
     "user": {
      "displayName": "Lucas G. Moura Leite",
      "photoUrl": "https://lh6.googleusercontent.com/-OzK-WjeoQAc/AAAAAAAAAAI/AAAAAAAAAGs/reQ3J8zZhu0/s64/photo.jpg",
      "userId": "15064829072844083005"
     },
     "user_tz": 180
    },
    "id": "m_XoCgZx6B7X",
    "outputId": "0ae4e053-8988-43fa-ca79-2f98da0b3621"
   },
   "outputs": [
    {
     "name": "stdout",
     "output_type": "stream",
     "text": [
      "10000/10000 [==============================] - 1s 74us/sample - loss: 0.0991 - acc: 0.9700\n",
      "Test accuracy: 0.97\n"
     ]
    }
   ],
   "source": [
    "test_loss, test_acc = model.evaluate(test_images, test_labels)\n",
    "\n",
    "print('Test accuracy:', test_acc)"
   ]
  },
  {
   "cell_type": "code",
   "execution_count": 38,
   "metadata": {
    "colab": {},
    "colab_type": "code",
    "id": "831mHUzm6B7e"
   },
   "outputs": [],
   "source": [
    "predictions = model.predict(test_images)"
   ]
  },
  {
   "cell_type": "code",
   "execution_count": 39,
   "metadata": {
    "colab": {
     "base_uri": "https://localhost:8080/",
     "height": 68
    },
    "colab_type": "code",
    "executionInfo": {
     "elapsed": 516,
     "status": "ok",
     "timestamp": 1562697769079,
     "user": {
      "displayName": "Lucas G. Moura Leite",
      "photoUrl": "https://lh6.googleusercontent.com/-OzK-WjeoQAc/AAAAAAAAAAI/AAAAAAAAAGs/reQ3J8zZhu0/s64/photo.jpg",
      "userId": "15064829072844083005"
     },
     "user_tz": 180
    },
    "id": "VKWN75Op6B7h",
    "outputId": "7bcf0d03-7c62-43d1-cfaf-79377d218568"
   },
   "outputs": [
    {
     "data": {
      "text/plain": [
       "array([1.2084483e-07, 2.8242887e-06, 2.4254226e-05, 9.7315980e-04,\n",
       "       5.7394387e-09, 9.1614529e-06, 1.2084736e-07, 9.9897063e-01,\n",
       "       8.3774339e-06, 1.1422421e-05], dtype=float32)"
      ]
     },
     "execution_count": 39,
     "metadata": {},
     "output_type": "execute_result"
    }
   ],
   "source": [
    "predictions[0]"
   ]
  },
  {
   "cell_type": "code",
   "execution_count": 40,
   "metadata": {
    "colab": {
     "base_uri": "https://localhost:8080/",
     "height": 34
    },
    "colab_type": "code",
    "executionInfo": {
     "elapsed": 516,
     "status": "ok",
     "timestamp": 1562697788028,
     "user": {
      "displayName": "Lucas G. Moura Leite",
      "photoUrl": "https://lh6.googleusercontent.com/-OzK-WjeoQAc/AAAAAAAAAAI/AAAAAAAAAGs/reQ3J8zZhu0/s64/photo.jpg",
      "userId": "15064829072844083005"
     },
     "user_tz": 180
    },
    "id": "kaStAfhm6B7o",
    "outputId": "f7d789c2-6ba2-425d-8fb6-c7bbaab48b3e"
   },
   "outputs": [
    {
     "data": {
      "text/plain": [
       "7"
      ]
     },
     "execution_count": 40,
     "metadata": {},
     "output_type": "execute_result"
    }
   ],
   "source": [
    "np.argmax(predictions[0])"
   ]
  },
  {
   "cell_type": "code",
   "execution_count": 41,
   "metadata": {
    "colab": {
     "base_uri": "https://localhost:8080/",
     "height": 34
    },
    "colab_type": "code",
    "executionInfo": {
     "elapsed": 519,
     "status": "ok",
     "timestamp": 1562697802718,
     "user": {
      "displayName": "Lucas G. Moura Leite",
      "photoUrl": "https://lh6.googleusercontent.com/-OzK-WjeoQAc/AAAAAAAAAAI/AAAAAAAAAGs/reQ3J8zZhu0/s64/photo.jpg",
      "userId": "15064829072844083005"
     },
     "user_tz": 180
    },
    "id": "_JNGtaUf6B7t",
    "outputId": "0a3e3cf6-f94f-4b4c-ec4d-3c086c8d3056"
   },
   "outputs": [
    {
     "data": {
      "text/plain": [
       "7"
      ]
     },
     "execution_count": 41,
     "metadata": {},
     "output_type": "execute_result"
    }
   ],
   "source": [
    "test_labels[0]"
   ]
  },
  {
   "cell_type": "code",
   "execution_count": 42,
   "metadata": {
    "colab": {},
    "colab_type": "code",
    "id": "9PRNwJjx6B8D"
   },
   "outputs": [
    {
     "name": "stdout",
     "output_type": "stream",
     "text": [
      "(28, 28)\n"
     ]
    }
   ],
   "source": [
    "img = test_images[0]\n",
    "\n",
    "print(img.shape)"
   ]
  },
  {
   "cell_type": "code",
   "execution_count": 43,
   "metadata": {
    "colab": {},
    "colab_type": "code",
    "id": "rgAEBBvr6B8H"
   },
   "outputs": [
    {
     "name": "stdout",
     "output_type": "stream",
     "text": [
      "(1, 28, 28)\n"
     ]
    }
   ],
   "source": [
    "img = (np.expand_dims(img,0))\n",
    "\n",
    "print(img.shape)"
   ]
  },
  {
   "cell_type": "code",
   "execution_count": 44,
   "metadata": {
    "colab": {},
    "colab_type": "code",
    "id": "kBd9iSvk6B8L"
   },
   "outputs": [
    {
     "name": "stdout",
     "output_type": "stream",
     "text": [
      "[[1.2084516e-07 2.8242914e-06 2.4254248e-05 9.7316073e-04 5.7394609e-09\n",
      "  9.1614620e-06 1.2084770e-07 9.9897063e-01 8.3774412e-06 1.1422433e-05]]\n"
     ]
    }
   ],
   "source": [
    "predictions_single = model.predict(img)\n",
    "\n",
    "print(predictions_single)"
   ]
  },
  {
   "cell_type": "code",
   "execution_count": 45,
   "metadata": {
    "colab": {},
    "colab_type": "code",
    "id": "buMojq1B6B8S"
   },
   "outputs": [
    {
     "data": {
      "text/plain": [
       "7"
      ]
     },
     "execution_count": 45,
     "metadata": {},
     "output_type": "execute_result"
    }
   ],
   "source": [
    "np.argmax(predictions_single[0])"
   ]
  }
 ],
 "metadata": {
  "colab": {
   "name": "1-Tensorflow.ipynb",
   "provenance": [],
   "version": "0.3.2"
  },
  "kernelspec": {
   "display_name": "Python 3",
   "language": "python",
   "name": "python3"
  },
  "language_info": {
   "codemirror_mode": {
    "name": "ipython",
    "version": 3
   },
   "file_extension": ".py",
   "mimetype": "text/x-python",
   "name": "python",
   "nbconvert_exporter": "python",
   "pygments_lexer": "ipython3",
   "version": "3.7.4"
  }
 },
 "nbformat": 4,
 "nbformat_minor": 2
}
