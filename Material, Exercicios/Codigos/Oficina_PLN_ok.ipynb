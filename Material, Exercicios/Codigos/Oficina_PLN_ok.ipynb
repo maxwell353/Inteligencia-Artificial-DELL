{
 "cells": [
  {
   "cell_type": "markdown",
   "metadata": {},
   "source": [
    "### Bibliotecas necessárias"
   ]
  },
  {
   "cell_type": "code",
   "execution_count": 1,
   "metadata": {},
   "outputs": [
    {
     "name": "stdout",
     "output_type": "stream",
     "text": [
      "Requirement already satisfied: nltk in c:\\programdata\\anaconda3\\lib\\site-packages (3.4.5)\n",
      "Requirement already satisfied: six in c:\\programdata\\anaconda3\\lib\\site-packages (from nltk) (1.12.0)\n"
     ]
    }
   ],
   "source": [
    "! pip install nltk"
   ]
  },
  {
   "cell_type": "code",
   "execution_count": 2,
   "metadata": {},
   "outputs": [],
   "source": [
    "import nltk\n",
    "from sklearn.feature_extraction.text import TfidfVectorizer\n",
    "import pandas as pd"
   ]
  },
  {
   "cell_type": "markdown",
   "metadata": {},
   "source": [
    "### Pacotes necessários"
   ]
  },
  {
   "cell_type": "code",
   "execution_count": 6,
   "metadata": {},
   "outputs": [
    {
     "name": "stderr",
     "output_type": "stream",
     "text": [
      "[nltk_data] Downloading package stopwords to\n",
      "[nltk_data]     C:\\Users\\Max\\AppData\\Roaming\\nltk_data...\n",
      "[nltk_data]   Package stopwords is already up-to-date!\n",
      "[nltk_data] Downloading package punkt to\n",
      "[nltk_data]     C:\\Users\\Max\\AppData\\Roaming\\nltk_data...\n",
      "[nltk_data]   Package punkt is already up-to-date!\n"
     ]
    },
    {
     "data": {
      "text/plain": [
       "True"
      ]
     },
     "execution_count": 6,
     "metadata": {},
     "output_type": "execute_result"
    }
   ],
   "source": [
    "nltk.download('stopwords')\n",
    "stopwords = nltk.corpus.stopwords.words('portuguese')\n",
    "nltk.download('punkt')"
   ]
  },
  {
   "cell_type": "markdown",
   "metadata": {},
   "source": [
    "Use a variável texto a seguir para identificar as stop words\n",
    "e após isso aplique o cáculo do **TF-IDF** neste mesmo texto e observe os scores."
   ]
  },
  {
   "cell_type": "markdown",
   "metadata": {},
   "source": [
    "**OBS:** Para realizar essa tarefa utilize os módulos estudados na aula"
   ]
  },
  {
   "cell_type": "code",
   "execution_count": 7,
   "metadata": {},
   "outputs": [],
   "source": [
    "texto = 'Um carro azul seguia rapidamente em uma rodovia, e ao passar por um buraco, o carro furou o pneu, e o motorista desceu do carro azul'"
   ]
  },
  {
   "cell_type": "code",
   "execution_count": 10,
   "metadata": {},
   "outputs": [
    {
     "name": "stdout",
     "output_type": "stream",
     "text": [
      "Stopwords do texto: \n",
      "em\n",
      "uma\n",
      "e\n",
      "ao\n",
      "por\n",
      "um\n",
      "o\n",
      "o\n",
      "e\n",
      "o\n",
      "do\n"
     ]
    }
   ],
   "source": [
    "from nltk.tokenize import word_tokenize\n",
    "tokens = word_tokenize(texto)\n",
    "\n",
    "print(\"Stopwords do texto: \")\n",
    "for t in tokens:\n",
    "    if t in stopwords:\n",
    "        print(t)"
   ]
  },
  {
   "cell_type": "code",
   "execution_count": 11,
   "metadata": {},
   "outputs": [
    {
     "name": "stdout",
     "output_type": "stream",
     "text": [
      "Tokens do texto: \n",
      "Um\n",
      "carro\n",
      "azul\n",
      "seguia\n",
      "rapidamente\n",
      "rodovia\n",
      ",\n",
      "passar\n",
      "buraco\n",
      ",\n",
      "carro\n",
      "furou\n",
      "pneu\n",
      ",\n",
      "motorista\n",
      "desceu\n",
      "carro\n",
      "azul\n"
     ]
    }
   ],
   "source": [
    "print(\"Tokens do texto: \")\n",
    "for t in tokens:\n",
    "    if t not in stopwords:\n",
    "        print(t)"
   ]
  },
  {
   "cell_type": "code",
   "execution_count": 17,
   "metadata": {},
   "outputs": [
    {
     "name": "stdout",
     "output_type": "stream",
     "text": [
      "Um carro azul seguia rapidamente em uma rodovia, e ao passar por um buraco, o carro furou o pneu, e o motorista desceu do carro azul\n",
      "\n",
      "         ao      azul    buraco     carro    desceu        do        em  \\\n",
      "0  0.179605  0.359211  0.179605  0.538816  0.179605  0.179605  0.179605   \n",
      "\n",
      "      furou  motorista    passar      pneu       por  rapidamente   rodovia  \\\n",
      "0  0.179605   0.179605  0.179605  0.179605  0.179605     0.179605  0.179605   \n",
      "\n",
      "     seguia        um       uma  \n",
      "0  0.179605  0.359211  0.179605  \n"
     ]
    }
   ],
   "source": [
    "tf_idf = TfidfVectorizer()\n",
    "\n",
    "vetor = tf_idf.fit_transform([texto])\n",
    "vetor = vetor.todense()\n",
    "nomes = tf_idf.get_feature_names()\n",
    "\n",
    "df = pd.DataFrame(vetor, columns=nomes)\n",
    "print(texto)\n",
    "print()\n",
    "print(df)"
   ]
  }
 ],
 "metadata": {
  "kernelspec": {
   "display_name": "Python 3",
   "language": "python",
   "name": "python3"
  },
  "language_info": {
   "codemirror_mode": {
    "name": "ipython",
    "version": 3
   },
   "file_extension": ".py",
   "mimetype": "text/x-python",
   "name": "python",
   "nbconvert_exporter": "python",
   "pygments_lexer": "ipython3",
   "version": "3.7.4"
  }
 },
 "nbformat": 4,
 "nbformat_minor": 4
}
